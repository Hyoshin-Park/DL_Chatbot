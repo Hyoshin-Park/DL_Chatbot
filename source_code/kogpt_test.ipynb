{
 "cells": [
  {
   "cell_type": "code",
   "execution_count": 2,
   "metadata": {},
   "outputs": [
    {
     "name": "stdout",
     "output_type": "stream",
     "text": [
      "Submodule path 'Chatbot_data': checked out '235fac5aea3badab22743f7048afe936cf72f822'\n"
     ]
    },
    {
     "name": "stderr",
     "output_type": "stream",
     "text": [
      "Cloning into 'KoGPT2-chatbot'...\n",
      "Submodule 'Chatbot_data' (https://github.com/haven-jeon/Chatbot_data.git) registered for path 'Chatbot_data'\n",
      "Cloning into 'C:/Users/nihso/Documents/ds_study/source_code/Deeplearning/KoGPT2-chatbot/Chatbot_data'...\n"
     ]
    }
   ],
   "source": [
    "!git clone --recurse-submodules https://github.com/haven-jeon/KoGPT2-chatbot.git\n",
    "# cd KoGPT2-chatbot\n",
    "# pip3 install -r requirements.txt "
   ]
  },
  {
   "cell_type": "code",
   "execution_count": 3,
   "metadata": {},
   "outputs": [],
   "source": [
    "!cd KoGPT2-chatbot\n",
    "# pip3 install -r requirements.txt "
   ]
  },
  {
   "cell_type": "code",
   "execution_count": 6,
   "metadata": {},
   "outputs": [
    {
     "name": "stderr",
     "output_type": "stream",
     "text": [
      "ERROR: Could not open requirements file: [Errno 2] No such file or directory: 'requirements.txt'\n"
     ]
    }
   ],
   "source": [
    "!pip3 install -r requirements.txt"
   ]
  },
  {
   "cell_type": "code",
   "execution_count": 7,
   "metadata": {},
   "outputs": [
    {
     "name": "stdout",
     "output_type": "stream",
     "text": [
      "Requirement already satisfied: pandas in c:\\users\\nihso\\miniconda3\\envs\\ds_study\\lib\\site-packages (1.4.3)\n",
      "Requirement already satisfied: pytorch_lightning==1.2.10 in c:\\users\\nihso\\miniconda3\\envs\\ds_study\\lib\\site-packages (1.2.10)\n",
      "Requirement already satisfied: torch in c:\\users\\nihso\\miniconda3\\envs\\ds_study\\lib\\site-packages (1.10.0)\n",
      "Requirement already satisfied: transformers==4.5.1 in c:\\users\\nihso\\miniconda3\\envs\\ds_study\\lib\\site-packages (4.5.1)\n",
      "Requirement already satisfied: PyYAML!=5.4.*,>=5.1 in c:\\users\\nihso\\miniconda3\\envs\\ds_study\\lib\\site-packages (from pytorch_lightning==1.2.10) (6.0)\n",
      "Requirement already satisfied: fsspec[http]>=0.8.1 in c:\\users\\nihso\\miniconda3\\envs\\ds_study\\lib\\site-packages (from pytorch_lightning==1.2.10) (2022.5.0)\n",
      "Requirement already satisfied: torchmetrics==0.2.0 in c:\\users\\nihso\\miniconda3\\envs\\ds_study\\lib\\site-packages (from pytorch_lightning==1.2.10) (0.2.0)\n",
      "Requirement already satisfied: tqdm>=4.41.0 in c:\\users\\nihso\\miniconda3\\envs\\ds_study\\lib\\site-packages (from pytorch_lightning==1.2.10) (4.64.0)\n",
      "Requirement already satisfied: future>=0.17.1 in c:\\users\\nihso\\miniconda3\\envs\\ds_study\\lib\\site-packages (from pytorch_lightning==1.2.10) (0.18.2)\n",
      "Requirement already satisfied: tensorboard!=2.5.0,>=2.2.0 in c:\\users\\nihso\\miniconda3\\envs\\ds_study\\lib\\site-packages (from pytorch_lightning==1.2.10) (2.9.0)\n",
      "Requirement already satisfied: numpy>=1.16.6 in c:\\users\\nihso\\miniconda3\\envs\\ds_study\\lib\\site-packages (from pytorch_lightning==1.2.10) (1.22.3)\n",
      "Requirement already satisfied: packaging in c:\\users\\nihso\\miniconda3\\envs\\ds_study\\lib\\site-packages (from pytorch_lightning==1.2.10) (21.3)\n",
      "Requirement already satisfied: regex!=2019.12.17 in c:\\users\\nihso\\miniconda3\\envs\\ds_study\\lib\\site-packages (from transformers==4.5.1) (2022.3.15)\n",
      "Requirement already satisfied: sacremoses in c:\\users\\nihso\\miniconda3\\envs\\ds_study\\lib\\site-packages (from transformers==4.5.1) (0.0.53)\n",
      "Requirement already satisfied: requests in c:\\users\\nihso\\miniconda3\\envs\\ds_study\\lib\\site-packages (from transformers==4.5.1) (2.28.1)\n",
      "Requirement already satisfied: tokenizers<0.11,>=0.10.1 in c:\\users\\nihso\\miniconda3\\envs\\ds_study\\lib\\site-packages (from transformers==4.5.1) (0.10.3)\n",
      "Requirement already satisfied: filelock in c:\\users\\nihso\\miniconda3\\envs\\ds_study\\lib\\site-packages (from transformers==4.5.1) (3.7.1)\n",
      "Requirement already satisfied: pytz>=2020.1 in c:\\users\\nihso\\miniconda3\\envs\\ds_study\\lib\\site-packages (from pandas) (2022.1)\n",
      "Requirement already satisfied: python-dateutil>=2.8.1 in c:\\users\\nihso\\miniconda3\\envs\\ds_study\\lib\\site-packages (from pandas) (2.8.2)\n",
      "Requirement already satisfied: typing-extensions in c:\\users\\nihso\\miniconda3\\envs\\ds_study\\lib\\site-packages (from torch) (4.2.0)\n",
      "Requirement already satisfied: aiohttp in c:\\users\\nihso\\miniconda3\\envs\\ds_study\\lib\\site-packages (from fsspec[http]>=0.8.1->pytorch_lightning==1.2.10) (3.8.1)\n",
      "Requirement already satisfied: six>=1.5 in c:\\users\\nihso\\miniconda3\\envs\\ds_study\\lib\\site-packages (from python-dateutil>=2.8.1->pandas) (1.16.0)\n",
      "Requirement already satisfied: setuptools>=41.0.0 in c:\\users\\nihso\\miniconda3\\envs\\ds_study\\lib\\site-packages (from tensorboard!=2.5.0,>=2.2.0->pytorch_lightning==1.2.10) (61.2.0)\n",
      "Requirement already satisfied: werkzeug>=1.0.1 in c:\\users\\nihso\\miniconda3\\envs\\ds_study\\lib\\site-packages (from tensorboard!=2.5.0,>=2.2.0->pytorch_lightning==1.2.10) (2.1.2)\n",
      "Requirement already satisfied: protobuf>=3.9.2 in c:\\users\\nihso\\miniconda3\\envs\\ds_study\\lib\\site-packages (from tensorboard!=2.5.0,>=2.2.0->pytorch_lightning==1.2.10) (3.19.4)\n",
      "Requirement already satisfied: absl-py>=0.4 in c:\\users\\nihso\\miniconda3\\envs\\ds_study\\lib\\site-packages (from tensorboard!=2.5.0,>=2.2.0->pytorch_lightning==1.2.10) (1.0.0)\n",
      "Requirement already satisfied: google-auth<3,>=1.6.3 in c:\\users\\nihso\\miniconda3\\envs\\ds_study\\lib\\site-packages (from tensorboard!=2.5.0,>=2.2.0->pytorch_lightning==1.2.10) (2.6.6)\n",
      "Requirement already satisfied: tensorboard-data-server<0.7.0,>=0.6.0 in c:\\users\\nihso\\miniconda3\\envs\\ds_study\\lib\\site-packages (from tensorboard!=2.5.0,>=2.2.0->pytorch_lightning==1.2.10) (0.6.1)\n",
      "Requirement already satisfied: google-auth-oauthlib<0.5,>=0.4.1 in c:\\users\\nihso\\miniconda3\\envs\\ds_study\\lib\\site-packages (from tensorboard!=2.5.0,>=2.2.0->pytorch_lightning==1.2.10) (0.4.6)\n",
      "Requirement already satisfied: grpcio>=1.24.3 in c:\\users\\nihso\\miniconda3\\envs\\ds_study\\lib\\site-packages (from tensorboard!=2.5.0,>=2.2.0->pytorch_lightning==1.2.10) (1.46.1)\n",
      "Requirement already satisfied: markdown>=2.6.8 in c:\\users\\nihso\\miniconda3\\envs\\ds_study\\lib\\site-packages (from tensorboard!=2.5.0,>=2.2.0->pytorch_lightning==1.2.10) (3.3.7)\n",
      "Requirement already satisfied: wheel>=0.26 in c:\\users\\nihso\\miniconda3\\envs\\ds_study\\lib\\site-packages (from tensorboard!=2.5.0,>=2.2.0->pytorch_lightning==1.2.10) (0.37.1)\n",
      "Requirement already satisfied: tensorboard-plugin-wit>=1.6.0 in c:\\users\\nihso\\miniconda3\\envs\\ds_study\\lib\\site-packages (from tensorboard!=2.5.0,>=2.2.0->pytorch_lightning==1.2.10) (1.8.1)\n",
      "Requirement already satisfied: idna<4,>=2.5 in c:\\users\\nihso\\miniconda3\\envs\\ds_study\\lib\\site-packages (from requests->transformers==4.5.1) (3.3)\n",
      "Requirement already satisfied: urllib3<1.27,>=1.21.1 in c:\\users\\nihso\\miniconda3\\envs\\ds_study\\lib\\site-packages (from requests->transformers==4.5.1) (1.26.9)\n",
      "Requirement already satisfied: charset-normalizer<3,>=2 in c:\\users\\nihso\\miniconda3\\envs\\ds_study\\lib\\site-packages (from requests->transformers==4.5.1) (2.0.4)\n",
      "Requirement already satisfied: certifi>=2017.4.17 in c:\\users\\nihso\\miniconda3\\envs\\ds_study\\lib\\site-packages (from requests->transformers==4.5.1) (2022.6.15)\n",
      "Requirement already satisfied: colorama in c:\\users\\nihso\\miniconda3\\envs\\ds_study\\lib\\site-packages (from tqdm>=4.41.0->pytorch_lightning==1.2.10) (0.4.5)\n",
      "Requirement already satisfied: pyparsing!=3.0.5,>=2.0.2 in c:\\users\\nihso\\miniconda3\\envs\\ds_study\\lib\\site-packages (from packaging->pytorch_lightning==1.2.10) (3.0.4)\n",
      "Requirement already satisfied: click in c:\\users\\nihso\\miniconda3\\envs\\ds_study\\lib\\site-packages (from sacremoses->transformers==4.5.1) (8.0.4)\n",
      "Requirement already satisfied: joblib in c:\\users\\nihso\\miniconda3\\envs\\ds_study\\lib\\site-packages (from sacremoses->transformers==4.5.1) (1.1.0)\n",
      "Requirement already satisfied: pyasn1-modules>=0.2.1 in c:\\users\\nihso\\miniconda3\\envs\\ds_study\\lib\\site-packages (from google-auth<3,>=1.6.3->tensorboard!=2.5.0,>=2.2.0->pytorch_lightning==1.2.10) (0.2.8)\n",
      "Requirement already satisfied: rsa<5,>=3.1.4 in c:\\users\\nihso\\miniconda3\\envs\\ds_study\\lib\\site-packages (from google-auth<3,>=1.6.3->tensorboard!=2.5.0,>=2.2.0->pytorch_lightning==1.2.10) (4.8)\n",
      "Requirement already satisfied: cachetools<6.0,>=2.0.0 in c:\\users\\nihso\\miniconda3\\envs\\ds_study\\lib\\site-packages (from google-auth<3,>=1.6.3->tensorboard!=2.5.0,>=2.2.0->pytorch_lightning==1.2.10) (5.1.0)\n",
      "Requirement already satisfied: requests-oauthlib>=0.7.0 in c:\\users\\nihso\\miniconda3\\envs\\ds_study\\lib\\site-packages (from google-auth-oauthlib<0.5,>=0.4.1->tensorboard!=2.5.0,>=2.2.0->pytorch_lightning==1.2.10) (1.3.1)\n",
      "Requirement already satisfied: importlib-metadata>=4.4 in c:\\users\\nihso\\miniconda3\\envs\\ds_study\\lib\\site-packages (from markdown>=2.6.8->tensorboard!=2.5.0,>=2.2.0->pytorch_lightning==1.2.10) (4.12.0)\n",
      "Requirement already satisfied: aiosignal>=1.1.2 in c:\\users\\nihso\\miniconda3\\envs\\ds_study\\lib\\site-packages (from aiohttp->fsspec[http]>=0.8.1->pytorch_lightning==1.2.10) (1.2.0)\n",
      "Requirement already satisfied: async-timeout<5.0,>=4.0.0a3 in c:\\users\\nihso\\miniconda3\\envs\\ds_study\\lib\\site-packages (from aiohttp->fsspec[http]>=0.8.1->pytorch_lightning==1.2.10) (4.0.2)\n",
      "Requirement already satisfied: attrs>=17.3.0 in c:\\users\\nihso\\miniconda3\\envs\\ds_study\\lib\\site-packages (from aiohttp->fsspec[http]>=0.8.1->pytorch_lightning==1.2.10) (21.4.0)\n",
      "Requirement already satisfied: yarl<2.0,>=1.0 in c:\\users\\nihso\\miniconda3\\envs\\ds_study\\lib\\site-packages (from aiohttp->fsspec[http]>=0.8.1->pytorch_lightning==1.2.10) (1.7.2)\n",
      "Requirement already satisfied: multidict<7.0,>=4.5 in c:\\users\\nihso\\miniconda3\\envs\\ds_study\\lib\\site-packages (from aiohttp->fsspec[http]>=0.8.1->pytorch_lightning==1.2.10) (6.0.2)\n",
      "Requirement already satisfied: frozenlist>=1.1.1 in c:\\users\\nihso\\miniconda3\\envs\\ds_study\\lib\\site-packages (from aiohttp->fsspec[http]>=0.8.1->pytorch_lightning==1.2.10) (1.3.0)\n",
      "Requirement already satisfied: zipp>=0.5 in c:\\users\\nihso\\miniconda3\\envs\\ds_study\\lib\\site-packages (from importlib-metadata>=4.4->markdown>=2.6.8->tensorboard!=2.5.0,>=2.2.0->pytorch_lightning==1.2.10) (3.8.0)\n",
      "Requirement already satisfied: pyasn1<0.5.0,>=0.4.6 in c:\\users\\nihso\\miniconda3\\envs\\ds_study\\lib\\site-packages (from pyasn1-modules>=0.2.1->google-auth<3,>=1.6.3->tensorboard!=2.5.0,>=2.2.0->pytorch_lightning==1.2.10) (0.4.8)\n",
      "Requirement already satisfied: oauthlib>=3.0.0 in c:\\users\\nihso\\miniconda3\\envs\\ds_study\\lib\\site-packages (from requests-oauthlib>=0.7.0->google-auth-oauthlib<0.5,>=0.4.1->tensorboard!=2.5.0,>=2.2.0->pytorch_lightning==1.2.10) (3.2.0)\n"
     ]
    }
   ],
   "source": [
    "!pip install pandas pytorch_lightning==1.2.10 torch transformers==4.5.1"
   ]
  },
  {
   "cell_type": "code",
   "execution_count": 14,
   "metadata": {},
   "outputs": [
    {
     "name": "stdout",
     "output_type": "stream",
     "text": [
      " C ����̺��� �������� �̸��� �����ϴ�.\n",
      " ���� �Ϸ� ��ȣ: C07C-E6FE\n",
      "\n",
      " c:\\Users\\nihso\\Documents\\ds_study\\source_code\\Deeplearning ���͸�\n",
      "\n",
      "2022-07-18  ���� 07:29    <DIR>          .\n",
      "2022-07-18  ���� 07:29    <DIR>          ..\n",
      "2022-06-20  ���� 04:09    <DIR>          .ipynb_checkpoints\n",
      "2022-07-16  ���� 07:30             7,915 1.2.10\n",
      "2022-07-16  ���� 09:38           889,842 ChatbotData.csv\n",
      "2022-07-16  ���� 07:46        47,078,520 chatbot_dataset_l.csv\n",
      "2022-07-16  ���� 07:47         3,251,876 chatbot_dataset_s.csv\n",
      "2022-06-20  ���� 07:08            90,994 chat_data.txt\n",
      "2022-05-25  ���� 07:58            24,587 CNN.ipynb\n",
      "2022-05-31  ���� 10:07    <DIR>          Data\n",
      "2022-05-25  ���� 05:21           221,576 deep learning.ipynb\n",
      "2022-05-30  ���� 05:55            90,763 DL Scratch.ipynb\n",
      "2022-07-12  ���� 08:10         2,112,388 DL.ipynb\n",
      "2022-06-21  ���� 08:04           853,577 DL_project.ipynb\n",
      "2022-06-20  ���� 01:57             1,519 DL_project.py\n",
      "2022-06-07  ���� 05:31        35,585,024 ethics.tar\n",
      "2022-06-13  ���� 05:42            90,768 GPT.ipynb\n",
      "2022-07-16  ���� 07:55            30,338 GPT3-test.ipynb\n",
      "2020-01-30  ���� 10:43            90,976 KETI_��ȭ������_�ϻ�_���ǽ�.txt\n",
      "2022-07-18  ���� 07:19    <DIR>          KoGPT2-chatbot\n",
      "2022-07-18  ���� 07:29            21,248 kogpt_test.ipynb\n",
      "2022-07-14  ���� 10:31             1,432 main.py\n",
      "2022-05-31  ���� 02:14         1,011,880 maskman.ipynb\n",
      "2022-05-25  ���� 07:47           166,581 MNIST using DL.ipynb\n",
      "2022-07-07  ���� 11:53            17,797 NIKL ��ȭ ����.txt\n",
      "2022-07-07  ���� 04:27    <DIR>          NIKL_OM_2021_v1.0\n",
      "2022-06-07  ���� 03:07    <DIR>          test\n",
      "2022-06-22  ���� 02:03             2,062 tmp.txt\n",
      "2022-05-31  ���� 11:49            17,913 torch.ipynb\n",
      "2022-07-16  ���� 09:18             8,405 trainer_l.py\n",
      "2022-07-18  ���� 04:05             9,702 trainer_s.py\n",
      "2022-07-17  ���� 03:58             9,618 train_torch1.py\n",
      "2022-06-07  ���� 02:55             1,177 Untitled.ipynb\n",
      "2022-06-20  ���� 04:12            22,627 Untitled1.ipynb\n",
      "2022-06-21  ���� 05:10        10,010,513 wellness_dataset.csv\n",
      "2022-06-20  ���� 01:45           557,814 wellness_dataset_original.csv\n",
      "2022-05-25  ���� 04:36             1,180 x09.txt\n",
      "2022-06-20  ���� 08:03        15,191,734 ������ȭ����ġ(����������)_Training.xlsx\n",
      "2022-06-29  ���� 08:31    <DIR>          ��������� ���� ���� ����ġ(���� 1.0)\n",
      "2022-06-20  ���� 04:55    <DIR>          �ѱ��� ��ȭ �����ͼ�\n",
      "              31�� ����         117,472,346 ����Ʈ\n",
      "               9�� ���͸�  86,137,147,392 ����Ʈ ����\n"
     ]
    }
   ],
   "source": [
    "!dir"
   ]
  },
  {
   "cell_type": "code",
   "execution_count": 15,
   "metadata": {},
   "outputs": [],
   "source": [
    "!cd KoGPT2-chatbot"
   ]
  },
  {
   "cell_type": "code",
   "execution_count": 17,
   "metadata": {},
   "outputs": [
    {
     "name": "stdout",
     "output_type": "stream",
     "text": [
      " C ����̺��� �������� �̸��� �����ϴ�.\n",
      " ���� �Ϸ� ��ȣ: C07C-E6FE\n",
      "\n",
      " c:\\Users\\nihso\\Documents\\ds_study\\source_code\\Deeplearning ���͸�\n",
      "\n",
      "2022-07-18  ���� 07:29    <DIR>          .\n",
      "2022-07-18  ���� 07:29    <DIR>          ..\n",
      "2022-06-20  ���� 04:09    <DIR>          .ipynb_checkpoints\n",
      "2022-07-16  ���� 07:30             7,915 1.2.10\n",
      "2022-07-16  ���� 09:38           889,842 ChatbotData.csv\n",
      "2022-07-16  ���� 07:46        47,078,520 chatbot_dataset_l.csv\n",
      "2022-07-16  ���� 07:47         3,251,876 chatbot_dataset_s.csv\n",
      "2022-06-20  ���� 07:08            90,994 chat_data.txt\n",
      "2022-05-25  ���� 07:58            24,587 CNN.ipynb\n",
      "2022-05-31  ���� 10:07    <DIR>          Data\n",
      "2022-05-25  ���� 05:21           221,576 deep learning.ipynb\n",
      "2022-05-30  ���� 05:55            90,763 DL Scratch.ipynb\n",
      "2022-07-12  ���� 08:10         2,112,388 DL.ipynb\n",
      "2022-06-21  ���� 08:04           853,577 DL_project.ipynb\n",
      "2022-06-20  ���� 01:57             1,519 DL_project.py\n",
      "2022-06-07  ���� 05:31        35,585,024 ethics.tar\n",
      "2022-06-13  ���� 05:42            90,768 GPT.ipynb\n",
      "2022-07-16  ���� 07:55            30,338 GPT3-test.ipynb\n",
      "2020-01-30  ���� 10:43            90,976 KETI_��ȭ������_�ϻ�_���ǽ�.txt\n",
      "2022-07-18  ���� 07:19    <DIR>          KoGPT2-chatbot\n",
      "2022-07-18  ���� 07:29            21,248 kogpt_test.ipynb\n",
      "2022-07-14  ���� 10:31             1,432 main.py\n",
      "2022-05-31  ���� 02:14         1,011,880 maskman.ipynb\n",
      "2022-05-25  ���� 07:47           166,581 MNIST using DL.ipynb\n",
      "2022-07-07  ���� 11:53            17,797 NIKL ��ȭ ����.txt\n",
      "2022-07-07  ���� 04:27    <DIR>          NIKL_OM_2021_v1.0\n",
      "2022-06-07  ���� 03:07    <DIR>          test\n",
      "2022-06-22  ���� 02:03             2,062 tmp.txt\n",
      "2022-05-31  ���� 11:49            17,913 torch.ipynb\n",
      "2022-07-16  ���� 09:18             8,405 trainer_l.py\n",
      "2022-07-18  ���� 04:05             9,702 trainer_s.py\n",
      "2022-07-17  ���� 03:58             9,618 train_torch1.py\n",
      "2022-06-07  ���� 02:55             1,177 Untitled.ipynb\n",
      "2022-06-20  ���� 04:12            22,627 Untitled1.ipynb\n",
      "2022-06-21  ���� 05:10        10,010,513 wellness_dataset.csv\n",
      "2022-06-20  ���� 01:45           557,814 wellness_dataset_original.csv\n",
      "2022-05-25  ���� 04:36             1,180 x09.txt\n",
      "2022-06-20  ���� 08:03        15,191,734 ������ȭ����ġ(����������)_Training.xlsx\n",
      "2022-06-29  ���� 08:31    <DIR>          ��������� ���� ���� ����ġ(���� 1.0)\n",
      "2022-06-20  ���� 04:55    <DIR>          �ѱ��� ��ȭ �����ͼ�\n",
      "              31�� ����         117,472,346 ����Ʈ\n",
      "               9�� ���͸�  86,136,262,656 ����Ʈ ����\n"
     ]
    }
   ],
   "source": [
    "!dir"
   ]
  },
  {
   "cell_type": "code",
   "execution_count": 19,
   "metadata": {},
   "outputs": [
    {
     "name": "stdout",
     "output_type": "stream",
     "text": [
      "\n",
      "Training: 0it [00:00, ?it/s]\n",
      "Training:   0%|          | 0/124 [00:00<?, ?it/s]\n",
      "Epoch 0:   0%|          | 0/124 [00:00<?, ?it/s] \n",
      "Epoch 0:   0%|          | 0/124 [00:16<?, ?it/s]\n"
     ]
    },
    {
     "name": "stderr",
     "output_type": "stream",
     "text": [
      "2022-07-18 19:31:55.674962: W tensorflow/stream_executor/platform/default/dso_loader.cc:64] Could not load dynamic library 'cudart64_110.dll'; dlerror: cudart64_110.dll not found\n",
      "2022-07-18 19:31:55.675101: I tensorflow/stream_executor/cuda/cudart_stub.cc:29] Ignore above cudart dlerror if you do not have a GPU set up on your machine.\n",
      "INFO:root:Namespace(accelerator=None, accumulate_grad_batches=1, amp_backend='native', amp_level='O2', auto_lr_find=False, auto_scale_batch_size=False, auto_select_gpus=False, automatic_optimization=None, batch_size=96, benchmark=False, chat=False, check_val_every_n_epoch=1, checkpoint_callback=True, default_root_dir=None, deterministic=False, distributed_backend=None, enable_pl_optimizer=None, fast_dev_run=False, flush_logs_every_n_steps=100, gpus=None, gradient_clip_val=0, limit_predict_batches=1.0, limit_test_batches=1.0, limit_train_batches=1.0, limit_val_batches=1.0, log_every_n_steps=50, log_gpu_memory=None, logger=True, lr=5e-05, max_epochs=2, max_len=32, max_steps=None, min_epochs=None, min_steps=None, model_params='model_chp/model_-last.ckpt', move_metrics_to_cpu=False, multiple_trainloader_mode='max_size_cycle', num_nodes=1, num_processes=1, num_sanity_val_steps=2, overfit_batches=0.0, plugins=None, precision=32, prepare_data_per_node=True, process_position=0, profiler=None, progress_bar_refresh_rate=None, reload_dataloaders_every_epoch=False, replace_sampler_ddp=True, resume_from_checkpoint=None, sentiment='0', stochastic_weight_avg=False, sync_batchnorm=False, terminate_on_nan=False, tpu_cores=None, track_grad_norm=-1, train=True, truncated_bptt_steps=None, val_check_interval=1.0, warmup_ratio=0.1, weights_save_path=None, weights_summary='top')\n",
      "GPU available: False, used: False\n",
      "TPU available: False, using: 0 TPU cores\n",
      "\n",
      "  | Name          | Type             | Params\n",
      "---------------------------------------------------\n",
      "0 | kogpt2        | GPT2LMHeadModel  | 125 M \n",
      "1 | loss_function | CrossEntropyLoss | 0     \n",
      "---------------------------------------------------\n",
      "125 M     Trainable params\n",
      "0         Non-trainable params\n",
      "125 M     Total params\n",
      "500.656   Total estimated model params size (MB)\n",
      "2022-07-18 19:32:15.394677: W tensorflow/stream_executor/platform/default/dso_loader.cc:64] Could not load dynamic library 'cudart64_110.dll'; dlerror: cudart64_110.dll not found\n",
      "2022-07-18 19:32:15.395646: I tensorflow/stream_executor/cuda/cudart_stub.cc:29] Ignore above cudart dlerror if you do not have a GPU set up on your machine.\n",
      "INFO:root:Namespace(accelerator=None, accumulate_grad_batches=1, amp_backend='native', amp_level='O2', auto_lr_find=False, auto_scale_batch_size=False, auto_select_gpus=False, automatic_optimization=None, batch_size=96, benchmark=False, chat=False, check_val_every_n_epoch=1, checkpoint_callback=True, default_root_dir=None, deterministic=False, distributed_backend=None, enable_pl_optimizer=None, fast_dev_run=False, flush_logs_every_n_steps=100, gpus=None, gradient_clip_val=0, limit_predict_batches=1.0, limit_test_batches=1.0, limit_train_batches=1.0, limit_val_batches=1.0, log_every_n_steps=50, log_gpu_memory=None, logger=True, lr=5e-05, max_epochs=2, max_len=32, max_steps=None, min_epochs=None, min_steps=None, model_params='model_chp/model_-last.ckpt', move_metrics_to_cpu=False, multiple_trainloader_mode='max_size_cycle', num_nodes=1, num_processes=1, num_sanity_val_steps=2, overfit_batches=0.0, plugins=None, precision=32, prepare_data_per_node=True, process_position=0, profiler=None, progress_bar_refresh_rate=None, reload_dataloaders_every_epoch=False, replace_sampler_ddp=True, resume_from_checkpoint=None, sentiment='0', stochastic_weight_avg=False, sync_batchnorm=False, terminate_on_nan=False, tpu_cores=None, track_grad_norm=-1, train=True, truncated_bptt_steps=None, val_check_interval=1.0, warmup_ratio=0.1, weights_save_path=None, weights_summary='top')\n",
      "Traceback (most recent call last):\n",
      "  File \"<string>\", line 1, in <module>\n",
      "Traceback (most recent call last):\n",
      "  File \"./KoGPT2-chatbot/train_torch.py\", line 238, in <module>\n",
      "  File \"c:\\Users\\nihso\\miniconda3\\envs\\ds_study\\lib\\multiprocessing\\spawn.py\", line 116, in spawn_main\n",
      "    trainer.fit(model)\n",
      "  File \"c:\\Users\\nihso\\miniconda3\\envs\\ds_study\\lib\\site-packages\\pytorch_lightning\\trainer\\trainer.py\", line 499, in fit\n",
      "    exitcode = _main(fd, parent_sentinel)\n",
      "  File \"c:\\Users\\nihso\\miniconda3\\envs\\ds_study\\lib\\multiprocessing\\spawn.py\", line 126, in _main\n",
      "    self.dispatch()\n",
      "  File \"c:\\Users\\nihso\\miniconda3\\envs\\ds_study\\lib\\site-packages\\pytorch_lightning\\trainer\\trainer.py\", line 546, in dispatch\n",
      "    self = reduction.pickle.load(from_parent)\n",
      "EOFError: Ran out of input\n",
      "    self.accelerator.start_training(self)\n",
      "  File \"c:\\Users\\nihso\\miniconda3\\envs\\ds_study\\lib\\site-packages\\pytorch_lightning\\accelerators\\accelerator.py\", line 73, in start_training\n",
      "    self.training_type_plugin.start_training(trainer)\n",
      "  File \"c:\\Users\\nihso\\miniconda3\\envs\\ds_study\\lib\\site-packages\\pytorch_lightning\\plugins\\training_type\\training_type_plugin.py\", line 114, in start_training\n",
      "    self._results = trainer.run_train()\n",
      "  File \"c:\\Users\\nihso\\miniconda3\\envs\\ds_study\\lib\\site-packages\\pytorch_lightning\\trainer\\trainer.py\", line 637, in run_train\n",
      "    self.train_loop.run_training_epoch()\n",
      "  File \"c:\\Users\\nihso\\miniconda3\\envs\\ds_study\\lib\\site-packages\\pytorch_lightning\\trainer\\training_loop.py\", line 484, in run_training_epoch\n",
      "    for batch_idx, (batch, is_last_batch) in train_dataloader:\n",
      "  File \"c:\\Users\\nihso\\miniconda3\\envs\\ds_study\\lib\\site-packages\\pytorch_lightning\\profiler\\profilers.py\", line 82, in profile_iterable\n",
      "    value = next(iterator)\n",
      "  File \"c:\\Users\\nihso\\miniconda3\\envs\\ds_study\\lib\\site-packages\\pytorch_lightning\\trainer\\connectors\\data_connector.py\", line 47, in _with_is_last\n",
      "    last = next(it)\n",
      "  File \"c:\\Users\\nihso\\miniconda3\\envs\\ds_study\\lib\\site-packages\\pytorch_lightning\\trainer\\supporters.py\", line 470, in __next__\n",
      "    return self.request_next_batch(self.loader_iters)\n",
      "  File \"c:\\Users\\nihso\\miniconda3\\envs\\ds_study\\lib\\site-packages\\pytorch_lightning\\trainer\\supporters.py\", line 455, in loader_iters\n",
      "    self._loader_iters = self.create_loader_iters(self.loaders)\n",
      "  File \"c:\\Users\\nihso\\miniconda3\\envs\\ds_study\\lib\\site-packages\\pytorch_lightning\\trainer\\supporters.py\", line 501, in create_loader_iters\n",
      "    return apply_to_collection(loaders, Iterable, iter, wrong_dtype=(Sequence, Mapping))\n",
      "  File \"c:\\Users\\nihso\\miniconda3\\envs\\ds_study\\lib\\site-packages\\pytorch_lightning\\utilities\\apply_func.py\", line 84, in apply_to_collection\n",
      "    return function(data, *args, **kwargs)\n",
      "  File \"c:\\Users\\nihso\\miniconda3\\envs\\ds_study\\lib\\site-packages\\torch\\utils\\data\\dataloader.py\", line 359, in __iter__\n",
      "    return self._get_iterator()\n",
      "  File \"c:\\Users\\nihso\\miniconda3\\envs\\ds_study\\lib\\site-packages\\torch\\utils\\data\\dataloader.py\", line 305, in _get_iterator\n",
      "    return _MultiProcessingDataLoaderIter(self)\n",
      "  File \"c:\\Users\\nihso\\miniconda3\\envs\\ds_study\\lib\\site-packages\\torch\\utils\\data\\dataloader.py\", line 918, in __init__\n",
      "    w.start()\n",
      "  File \"c:\\Users\\nihso\\miniconda3\\envs\\ds_study\\lib\\multiprocessing\\process.py\", line 121, in start\n",
      "    self._popen = self._Popen(self)\n",
      "  File \"c:\\Users\\nihso\\miniconda3\\envs\\ds_study\\lib\\multiprocessing\\context.py\", line 224, in _Popen\n",
      "    return _default_context.get_context().Process._Popen(process_obj)\n",
      "  File \"c:\\Users\\nihso\\miniconda3\\envs\\ds_study\\lib\\multiprocessing\\context.py\", line 327, in _Popen\n",
      "    return Popen(process_obj)\n",
      "  File \"c:\\Users\\nihso\\miniconda3\\envs\\ds_study\\lib\\multiprocessing\\popen_spawn_win32.py\", line 93, in __init__\n",
      "    reduction.dump(process_obj, to_child)\n",
      "  File \"c:\\Users\\nihso\\miniconda3\\envs\\ds_study\\lib\\multiprocessing\\reduction.py\", line 60, in dump\n",
      "    ForkingPickler(file, protocol).dump(obj)\n",
      "AttributeError: Can't pickle local object 'get_cosine_schedule_with_warmup.<locals>.lr_lambda'\n"
     ]
    }
   ],
   "source": [
    "!python ./KoGPT2-chatbot/train_torch.py --train --max_epochs 2"
   ]
  },
  {
   "cell_type": "code",
   "execution_count": 11,
   "metadata": {},
   "outputs": [
    {
     "name": "stderr",
     "output_type": "stream",
     "text": [
      "2022-07-18 19:22:26.280667: W tensorflow/stream_executor/platform/default/dso_loader.cc:64] Could not load dynamic library 'cudart64_110.dll'; dlerror: cudart64_110.dll not found\n",
      "2022-07-18 19:22:26.281037: I tensorflow/stream_executor/cuda/cudart_stub.cc:29] Ignore above cudart dlerror if you do not have a GPU set up on your machine.\n",
      "INFO:root:Namespace(accelerator=None, accumulate_grad_batches=1, amp_backend='native', amp_level='O2', auto_lr_find=False, auto_scale_batch_size=False, auto_select_gpus=False, automatic_optimization=None, batch_size=96, benchmark=False, chat=True, check_val_every_n_epoch=1, checkpoint_callback=True, default_root_dir=None, deterministic=False, distributed_backend=None, enable_pl_optimizer=None, fast_dev_run=False, flush_logs_every_n_steps=100, gpus=1, gradient_clip_val=0, limit_predict_batches=1.0, limit_test_batches=1.0, limit_train_batches=1.0, limit_val_batches=1.0, log_every_n_steps=50, log_gpu_memory=None, logger=True, lr=5e-05, max_epochs=None, max_len=32, max_steps=None, min_epochs=None, min_steps=None, model_params='model_chp/model_-last.ckpt', move_metrics_to_cpu=False, multiple_trainloader_mode='max_size_cycle', num_nodes=1, num_processes=1, num_sanity_val_steps=2, overfit_batches=0.0, plugins=None, precision=32, prepare_data_per_node=True, process_position=0, profiler=None, progress_bar_refresh_rate=None, reload_dataloaders_every_epoch=False, replace_sampler_ddp=True, resume_from_checkpoint=None, sentiment='0', stochastic_weight_avg=False, sync_batchnorm=False, terminate_on_nan=False, tpu_cores=None, track_grad_norm=-1, train=False, truncated_bptt_steps=None, val_check_interval=1.0, warmup_ratio=0.1, weights_save_path=None, weights_summary='top')\n",
      "Traceback (most recent call last):\n",
      "  File \"train_torch.py\", line 241, in <module>\n",
      "    model = KoGPT2Chat.load_from_checkpoint(args.model_params)\n",
      "  File \"c:\\Users\\nihso\\miniconda3\\envs\\ds_study\\lib\\site-packages\\pytorch_lightning\\core\\saving.py\", line 135, in load_from_checkpoint\n",
      "    checkpoint = pl_load(checkpoint_path, map_location=lambda storage, loc: storage)\n",
      "  File \"c:\\Users\\nihso\\miniconda3\\envs\\ds_study\\lib\\site-packages\\pytorch_lightning\\utilities\\cloud_io.py\", line 44, in load\n",
      "    with fs.open(path_or_url, \"rb\") as f:\n",
      "  File \"c:\\Users\\nihso\\miniconda3\\envs\\ds_study\\lib\\site-packages\\fsspec\\spec.py\", line 1037, in open\n",
      "    f = self._open(\n",
      "  File \"c:\\Users\\nihso\\miniconda3\\envs\\ds_study\\lib\\site-packages\\fsspec\\implementations\\local.py\", line 159, in _open\n",
      "    return LocalFileOpener(path, mode, fs=self, **kwargs)\n",
      "  File \"c:\\Users\\nihso\\miniconda3\\envs\\ds_study\\lib\\site-packages\\fsspec\\implementations\\local.py\", line 254, in __init__\n",
      "    self._open()\n",
      "  File \"c:\\Users\\nihso\\miniconda3\\envs\\ds_study\\lib\\site-packages\\fsspec\\implementations\\local.py\", line 259, in _open\n",
      "    self.f = open(self.path, mode=self.mode)\n",
      "FileNotFoundError: [Errno 2] No such file or directory: 'c:/Users/nihso/Documents/ds_study/source_code/Deeplearning/model_chp/model_-last.ckpt'\n"
     ]
    }
   ],
   "source": [
    "!python train_torch.py --gpus 1 --chat"
   ]
  },
  {
   "cell_type": "code",
   "execution_count": null,
   "metadata": {},
   "outputs": [],
   "source": []
  }
 ],
 "metadata": {
  "kernelspec": {
   "display_name": "Python 3.8.12 ('ds_study')",
   "language": "python",
   "name": "python3"
  },
  "language_info": {
   "codemirror_mode": {
    "name": "ipython",
    "version": 3
   },
   "file_extension": ".py",
   "mimetype": "text/x-python",
   "name": "python",
   "nbconvert_exporter": "python",
   "pygments_lexer": "ipython3",
   "version": "3.8.13"
  },
  "orig_nbformat": 4,
  "vscode": {
   "interpreter": {
    "hash": "9d427dfaf44bfe573fbc934bba616458c60e55e884bd082a4375970f130de506"
   }
  }
 },
 "nbformat": 4,
 "nbformat_minor": 2
}
